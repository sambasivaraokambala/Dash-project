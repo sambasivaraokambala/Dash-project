{
 "cells": [
  {
   "cell_type": "code",
   "execution_count": 1,
   "metadata": {},
   "outputs": [],
   "source": [
    "# import required libraries\n",
    "import pandas as pd\n",
    "import plotly.graph_objects as go\n",
    "import dash\n",
    "import dash_html_components as html\n",
    "import dash_core_components as dcc\n",
    "from dash.dependencies import Input,Output"
   ]
  },
  {
   "cell_type": "code",
   "execution_count": 2,
   "metadata": {},
   "outputs": [],
   "source": [
    "# Create dash application\n",
    "app = dash.Dash(__name__)"
   ]
  },
  {
   "cell_type": "code",
   "execution_count": 3,
   "metadata": {},
   "outputs": [],
   "source": [
    "# Read the airline data into a dataframe\n",
    "Airline_data = pd.read_csv('https://cf-courses-data.s3.us.cloud-object-storage.appdomain.cloud/IBMDeveloperSkillsNetwork-DV0101EN-SkillsNetwork/Data%20Files/airline_data.csv', \n",
    "                            encoding = \"ISO-8859-1\",\n",
    "                            dtype={'Div1Airport': str, 'Div1TailNum': str, \n",
    "                                   'Div2Airport': str, 'Div2TailNum': str})"
   ]
  },
  {
   "cell_type": "code",
   "execution_count": 4,
   "metadata": {},
   "outputs": [
    {
     "ename": "SyntaxError",
     "evalue": "invalid syntax (<ipython-input-4-eeedb043b680>, line 6)",
     "output_type": "error",
     "traceback": [
      "\u001b[1;36m  File \u001b[1;32m\"<ipython-input-4-eeedb043b680>\"\u001b[1;36m, line \u001b[1;32m6\u001b[0m\n\u001b[1;33m    app.layout= html.Div(children = [html.H1('Airline Performance Dash'),style = {'textAlign':'center','color':'#503036','font-size':40}),\u001b[0m\n\u001b[1;37m                                                                               ^\u001b[0m\n\u001b[1;31mSyntaxError\u001b[0m\u001b[1;31m:\u001b[0m invalid syntax\n"
     ]
    }
   ],
   "source": [
    "# Get the layout of the application and adjust it\n",
    "# Create an outer division using html.div and add title to the division using html.H1 components\n",
    "# Add html.div and core input text component\n",
    "# Finally,add group componentboard\n",
    "\n",
    "app.layout= html.Div(children = [html.H1('Airline Performance Dash',\n",
    "                                         style = {'textAlign':'center','color':'#503D36',\n",
    "                                                  'font-size':40}),\n",
    "                                 \n",
    "                                 \n",
    "                                 \n",
    "                                 \n",
    "                                 html.Div([\"Input Year :\",dcc.Input(id = 'input-year',value = '2010',\n",
    "                                                                   type = 'number',style = {'height':'50px','font-size';35})],\n",
    "                                          style = {'font-size'= 40}),\n",
    "                                 html.Br(),\n",
    "                                 html.Br(),\n",
    "                                 html.Div(dcc.Graph(id = 'line-plot')),\n",
    "                                ])\n",
    "# add callback decorator\n",
    "\n",
    "@app.callback(output(component_id = 'line-plot',component_property = 'figure'),\n",
    "              input(component_id ='input-year',component_property = 'value'))\n",
    "\n",
    "# Add computation to callback function and add return graph\n",
    "def get_graph(entered_year):\n",
    "    # Select 2019 data\n",
    "    df = airline_data[airline_data['Year'] == int(entered_year)]\n",
    "    \n",
    "    # Group the data by month and compute average over delay time\n",
    "    line_data = df.groupby('Month')['ArrDelay'].mean().reset_index()\n",
    "    fig = go.Figure(data= go.Scatter(x = line_data['Month'],y = line_data['ArrDelay'],mode ='lines',marker = dict(color='green')))\n",
    "    fig.update_layout(title = 'Month vs Average Flight Delay Time', xaxis_title='Month', yaxis_title='ArrDelay'))\n",
    "    \n",
    "    return fig\n",
    "# Run the app\n",
    "\n",
    "if __name__ == '__main__':\n",
    "    app.run_server()"
   ]
  }
 ],
 "metadata": {
  "kernelspec": {
   "display_name": "Python 3",
   "language": "python",
   "name": "python3"
  },
  "language_info": {
   "codemirror_mode": {
    "name": "ipython",
    "version": 3
   },
   "file_extension": ".py",
   "mimetype": "text/x-python",
   "name": "python",
   "nbconvert_exporter": "python",
   "pygments_lexer": "ipython3",
   "version": "3.8.5"
  }
 },
 "nbformat": 4,
 "nbformat_minor": 4
}
